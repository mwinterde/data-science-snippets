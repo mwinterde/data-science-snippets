{
 "cells": [
  {
   "cell_type": "markdown",
   "id": "247ee5f0-c326-4fe6-88b5-362ed4e18907",
   "metadata": {
    "tags": []
   },
   "source": [
    "## Create subsets with equal class distribution\n",
    "\n",
    "Given is the dataset `fraud.csv` which includes various **customer features** and the binary variable **`label` indicating fraudulent behavior**."
   ]
  },
  {
   "cell_type": "code",
   "execution_count": 1,
   "id": "ad644fc7-c322-4c3b-ab8d-0439538ad5fe",
   "metadata": {},
   "outputs": [
    {
     "data": {
      "text/html": [
       "<div>\n",
       "<style scoped>\n",
       "    .dataframe tbody tr th:only-of-type {\n",
       "        vertical-align: middle;\n",
       "    }\n",
       "\n",
       "    .dataframe tbody tr th {\n",
       "        vertical-align: top;\n",
       "    }\n",
       "\n",
       "    .dataframe thead th {\n",
       "        text-align: right;\n",
       "    }\n",
       "</style>\n",
       "<table border=\"1\" class=\"dataframe\">\n",
       "  <thead>\n",
       "    <tr style=\"text-align: right;\">\n",
       "      <th></th>\n",
       "      <th>col1</th>\n",
       "      <th>col2</th>\n",
       "      <th>col3</th>\n",
       "      <th>col4</th>\n",
       "      <th>col5</th>\n",
       "      <th>label</th>\n",
       "    </tr>\n",
       "  </thead>\n",
       "  <tbody>\n",
       "    <tr>\n",
       "      <th>0</th>\n",
       "      <td>-1.250814</td>\n",
       "      <td>0.411701</td>\n",
       "      <td>0.983945</td>\n",
       "      <td>-1.219923</td>\n",
       "      <td>-0.578289</td>\n",
       "      <td>0</td>\n",
       "    </tr>\n",
       "    <tr>\n",
       "      <th>1</th>\n",
       "      <td>1.479663</td>\n",
       "      <td>0.890066</td>\n",
       "      <td>-0.073772</td>\n",
       "      <td>2.121420</td>\n",
       "      <td>2.033026</td>\n",
       "      <td>1</td>\n",
       "    </tr>\n",
       "    <tr>\n",
       "      <th>2</th>\n",
       "      <td>-2.158867</td>\n",
       "      <td>-4.264348</td>\n",
       "      <td>-2.918629</td>\n",
       "      <td>-3.089199</td>\n",
       "      <td>-4.859321</td>\n",
       "      <td>0</td>\n",
       "    </tr>\n",
       "    <tr>\n",
       "      <th>3</th>\n",
       "      <td>-1.687921</td>\n",
       "      <td>-1.301744</td>\n",
       "      <td>-0.840542</td>\n",
       "      <td>-1.051996</td>\n",
       "      <td>-1.558555</td>\n",
       "      <td>0</td>\n",
       "    </tr>\n",
       "    <tr>\n",
       "      <th>4</th>\n",
       "      <td>0.686342</td>\n",
       "      <td>0.577495</td>\n",
       "      <td>1.477151</td>\n",
       "      <td>-1.920847</td>\n",
       "      <td>-0.955816</td>\n",
       "      <td>0</td>\n",
       "    </tr>\n",
       "  </tbody>\n",
       "</table>\n",
       "</div>"
      ],
      "text/plain": [
       "       col1      col2      col3      col4      col5  label\n",
       "0 -1.250814  0.411701  0.983945 -1.219923 -0.578289      0\n",
       "1  1.479663  0.890066 -0.073772  2.121420  2.033026      1\n",
       "2 -2.158867 -4.264348 -2.918629 -3.089199 -4.859321      0\n",
       "3 -1.687921 -1.301744 -0.840542 -1.051996 -1.558555      0\n",
       "4  0.686342  0.577495  1.477151 -1.920847 -0.955816      0"
      ]
     },
     "execution_count": 1,
     "metadata": {},
     "output_type": "execute_result"
    }
   ],
   "source": [
    "import pandas as pd\n",
    "\n",
    "# Read data\n",
    "fraud = pd.read_csv(\"../resources/fraud.csv\")\n",
    "fraud.head()"
   ]
  },
  {
   "cell_type": "markdown",
   "id": "7034526a-372f-4616-b658-f482ba6abf8b",
   "metadata": {},
   "source": [
    "Your task is to divide the dataset into five **equally sized subsets** (`fraud1.csv`, `fraud2.csv`, ... , `fraud5.csv`). \n",
    "\n",
    "An additional condition is that the **binary variable `label`** should be **equally distributed** in all five datasets."
   ]
  },
  {
   "cell_type": "code",
   "execution_count": 2,
   "id": "a1c0d16f-3e73-4143-a3ec-13c426b3a062",
   "metadata": {},
   "outputs": [],
   "source": [
    "from sklearn.model_selection import StratifiedKFold\n",
    "\n",
    "# Pseudo split of the data for stratfied k fold function\n",
    "X = fraud.drop('label', axis=1)\n",
    "y = fraud['label']\n",
    "\n",
    "# Initialize kfold object\n",
    "kfold = StratifiedKFold(n_splits=5)\n",
    "i = 1\n",
    "# Generate and loop through folds\n",
    "for _, test_idx in kfold.split(X, y):\n",
    "    # Store test set to file\n",
    "    fraud.iloc[test_idx].to_csv(f\"fraud{str(i)}.csv\")\n",
    "    i += 1"
   ]
  },
  {
   "cell_type": "markdown",
   "id": "b023a510-c4f4-4dd4-86bb-b0390d77f007",
   "metadata": {},
   "source": [
    "In the last step you **check if your procedure was successful**."
   ]
  },
  {
   "cell_type": "code",
   "execution_count": 3,
   "id": "7fd6b238-50e4-4a2b-8036-6597f019e188",
   "metadata": {},
   "outputs": [
    {
     "data": {
      "text/html": [
       "<div>\n",
       "<style scoped>\n",
       "    .dataframe tbody tr th:only-of-type {\n",
       "        vertical-align: middle;\n",
       "    }\n",
       "\n",
       "    .dataframe tbody tr th {\n",
       "        vertical-align: top;\n",
       "    }\n",
       "\n",
       "    .dataframe thead th {\n",
       "        text-align: right;\n",
       "    }\n",
       "</style>\n",
       "<table border=\"1\" class=\"dataframe\">\n",
       "  <thead>\n",
       "    <tr style=\"text-align: right;\">\n",
       "      <th></th>\n",
       "      <th>file</th>\n",
       "      <th>num_samples</th>\n",
       "      <th>% fraud</th>\n",
       "    </tr>\n",
       "  </thead>\n",
       "  <tbody>\n",
       "    <tr>\n",
       "      <th>0</th>\n",
       "      <td>fraud1.csv</td>\n",
       "      <td>200</td>\n",
       "      <td>0.180</td>\n",
       "    </tr>\n",
       "    <tr>\n",
       "      <th>1</th>\n",
       "      <td>fraud2.csv</td>\n",
       "      <td>200</td>\n",
       "      <td>0.180</td>\n",
       "    </tr>\n",
       "    <tr>\n",
       "      <th>2</th>\n",
       "      <td>fraud3.csv</td>\n",
       "      <td>200</td>\n",
       "      <td>0.185</td>\n",
       "    </tr>\n",
       "    <tr>\n",
       "      <th>3</th>\n",
       "      <td>fraud4.csv</td>\n",
       "      <td>200</td>\n",
       "      <td>0.185</td>\n",
       "    </tr>\n",
       "    <tr>\n",
       "      <th>4</th>\n",
       "      <td>fraud5.csv</td>\n",
       "      <td>200</td>\n",
       "      <td>0.185</td>\n",
       "    </tr>\n",
       "  </tbody>\n",
       "</table>\n",
       "</div>"
      ],
      "text/plain": [
       "         file num_samples  % fraud\n",
       "0  fraud1.csv         200    0.180\n",
       "1  fraud2.csv         200    0.180\n",
       "2  fraud3.csv         200    0.185\n",
       "3  fraud4.csv         200    0.185\n",
       "4  fraud5.csv         200    0.185"
      ]
     },
     "execution_count": 3,
     "metadata": {},
     "output_type": "execute_result"
    }
   ],
   "source": [
    "# Create dataframe for storing results\n",
    "results = pd.DataFrame(columns=['file', 'num_samples', '% fraud'])\n",
    "\n",
    "# Loop through files\n",
    "for i in range(1, 6):\n",
    "    # Read file\n",
    "    filename = f\"fraud{str(i)}.csv\"\n",
    "    subset = pd.read_csv(filename)\n",
    "    \n",
    "    # Calculate and store statistics\n",
    "    N = subset.shape[0]\n",
    "    perc = subset.label.mean()\n",
    "    results = results.append({\n",
    "        'file': filename, \n",
    "        'num_samples': N, \n",
    "        '% fraud': perc\n",
    "    }, ignore_index=True)\n",
    "\n",
    "# Print results\n",
    "results"
   ]
  }
 ],
 "metadata": {
  "kernelspec": {
   "display_name": "Python 3",
   "language": "python",
   "name": "python3"
  },
  "language_info": {
   "codemirror_mode": {
    "name": "ipython",
    "version": 3
   },
   "file_extension": ".py",
   "mimetype": "text/x-python",
   "name": "python",
   "nbconvert_exporter": "python",
   "pygments_lexer": "ipython3",
   "version": "3.7.8"
  }
 },
 "nbformat": 4,
 "nbformat_minor": 5
}
