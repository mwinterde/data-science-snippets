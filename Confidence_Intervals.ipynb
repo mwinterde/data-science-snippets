{
 "cells": [
  {
   "cell_type": "markdown",
   "metadata": {},
   "source": [
    "# Confidence Intervals\n",
    "\n",
    "Confidence intervals are another important concept of inferential statistics. Since the interpretation of confidence intervals is straightforward, they are often useful to express the certainty that we have about some numbers. In simple words, the confidence interval refers to the probability that a population paramater will fall between two set values. In this notebook we will demonstrate the general idea behind confidence intervals using two common examples."
   ]
  },
  {
   "cell_type": "code",
   "execution_count": 10,
   "metadata": {},
   "outputs": [],
   "source": [
    "import numpy as np\n",
    "from scipy import stats"
   ]
  },
  {
   "cell_type": "markdown",
   "metadata": {},
   "source": [
    "## Confidence Interval of a Sample Mean\n",
    "\n",
    "The first use case is to estimate the confidence interval of some sample mean. This is common in hypothesis testing where in most cases we will compare the sample means of two groups (e.g. the conversion rate when testing a new landing page). In the following we will prove that the 95% confidence interval that we calculate from some sample of size `N`, will contain the true population mean `mu` with 95% proabability. Therefore, we will repeat the experiment thousands of times and measure how often the observed confidence interval contains the true paramater."
   ]
  },
  {
   "cell_type": "code",
   "execution_count": 46,
   "metadata": {},
   "outputs": [
    {
     "name": "stdout",
     "output_type": "stream",
     "text": [
      "0.944587\n"
     ]
    }
   ],
   "source": [
    "def calculate_confidence_interval_of_sample_mean(sample, alpha):\n",
    "    \"\"\"Calculates lower and upper bound of confidence interval of the sample mean\"\"\"\n",
    "    \n",
    "    N = len(sample)\n",
    "    sample_mean = sample.mean()\n",
    "    sample_std = sample.std(ddof=1) # one degree of freedom\n",
    "    z_value = stats.norm.ppf(1-alpha/2)\n",
    "    ci_lb = sample_mean - z_value * sample_std/np.sqrt(N)\n",
    "    ci_ub = sample_mean + z_value * sample_std/np.sqrt(N)\n",
    "    \n",
    "    return ci_lb, ci_ub\n",
    "\n",
    "\n",
    "mu = 1000\n",
    "sigma = 50\n",
    "N = 50\n",
    "\n",
    "ci_contains_population_mean = []\n",
    "\n",
    "for _ in range(1_000_000):\n",
    "    \n",
    "    # Draw random sample from population\n",
    "    sample = np.random.normal(mu, sigma, N)\n",
    "    \n",
    "    # Calculate confidence interval\n",
    "    ci_lb, ci_ub = calculate_confidence_interval_of_sample_mean(sample, 0.05)\n",
    "    \n",
    "    # Check if confidence interval contains population mean\n",
    "    ci_contains_population_mean.append(ci_lb <= mu <= ci_ub)\n",
    "\n",
    "print(np.mean(ci_contains_population_mean))"
   ]
  },
  {
   "cell_type": "markdown",
   "metadata": {},
   "source": [
    "## Confidence Interval of a Regression Coefficient\n",
    "\n",
    "tbd"
   ]
  }
 ],
 "metadata": {
  "kernelspec": {
   "display_name": "Python (kaggle-predict-future-sales)",
   "language": "python",
   "name": "myenv"
  },
  "language_info": {
   "codemirror_mode": {
    "name": "ipython",
    "version": 3
   },
   "file_extension": ".py",
   "mimetype": "text/x-python",
   "name": "python",
   "nbconvert_exporter": "python",
   "pygments_lexer": "ipython3",
   "version": "3.8.5"
  }
 },
 "nbformat": 4,
 "nbformat_minor": 4
}
