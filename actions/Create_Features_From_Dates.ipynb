{
 "cells": [
  {
   "cell_type": "markdown",
   "metadata": {},
   "source": [
    "# Create Features From Dates\n",
    "\n",
    "Sometimes we want to create features from a simple date given in a dataset. This can be easily done in pandas using the `.dt` class, which serves as an accessor object for datetimelike properties of the Series values."
   ]
  },
  {
   "cell_type": "code",
   "execution_count": 13,
   "metadata": {},
   "outputs": [],
   "source": [
    "# Import pandas\n",
    "import pandas as pd\n",
    "import numpy as np"
   ]
  },
  {
   "cell_type": "code",
   "execution_count": 28,
   "metadata": {},
   "outputs": [],
   "source": [
    "# Create sample dataset\n",
    "movie_tuples = [('Pulp Fiction', '1994-11-03'), \n",
    "                ('The Dark Knight', '2008-08-21'), \n",
    "                ('Inception', '2010-07-29'), \n",
    "                ('Matrix', '1999-06-17'), \n",
    "                ('Interstellar', '2014-11-06')]\n",
    "\n",
    "movie_df = pd.DataFrame.from_records(movie_tuples, columns=['movie', 'date'])"
   ]
  },
  {
   "cell_type": "code",
   "execution_count": null,
   "metadata": {},
   "outputs": [],
   "source": [
    "# Convert date column\n",
    "movie_df['date'] = movie_df['date'].astype('datetime64')"
   ]
  },
  {
   "cell_type": "code",
   "execution_count": 29,
   "metadata": {},
   "outputs": [],
   "source": [
    "# Create date features\n",
    "movie_df['day'] = movie_df.date.dt.day\n",
    "movie_df['month'] = movie_df.date.dt.month\n",
    "movie_df['year'] = movie_df.date.dt.year\n",
    "movie_df['weekday'] = movie_df.date.dt.weekday"
   ]
  },
  {
   "cell_type": "code",
   "execution_count": 30,
   "metadata": {},
   "outputs": [
    {
     "data": {
      "text/html": [
       "<div>\n",
       "<style scoped>\n",
       "    .dataframe tbody tr th:only-of-type {\n",
       "        vertical-align: middle;\n",
       "    }\n",
       "\n",
       "    .dataframe tbody tr th {\n",
       "        vertical-align: top;\n",
       "    }\n",
       "\n",
       "    .dataframe thead th {\n",
       "        text-align: right;\n",
       "    }\n",
       "</style>\n",
       "<table border=\"1\" class=\"dataframe\">\n",
       "  <thead>\n",
       "    <tr style=\"text-align: right;\">\n",
       "      <th></th>\n",
       "      <th>movie</th>\n",
       "      <th>date</th>\n",
       "      <th>day</th>\n",
       "      <th>month</th>\n",
       "      <th>year</th>\n",
       "      <th>weekday</th>\n",
       "    </tr>\n",
       "  </thead>\n",
       "  <tbody>\n",
       "    <tr>\n",
       "      <th>0</th>\n",
       "      <td>Pulp Fiction</td>\n",
       "      <td>1994-11-03</td>\n",
       "      <td>3</td>\n",
       "      <td>11</td>\n",
       "      <td>1994</td>\n",
       "      <td>3</td>\n",
       "    </tr>\n",
       "    <tr>\n",
       "      <th>1</th>\n",
       "      <td>The Dark Knight</td>\n",
       "      <td>2008-08-21</td>\n",
       "      <td>21</td>\n",
       "      <td>8</td>\n",
       "      <td>2008</td>\n",
       "      <td>3</td>\n",
       "    </tr>\n",
       "    <tr>\n",
       "      <th>2</th>\n",
       "      <td>Inception</td>\n",
       "      <td>2010-07-29</td>\n",
       "      <td>29</td>\n",
       "      <td>7</td>\n",
       "      <td>2010</td>\n",
       "      <td>3</td>\n",
       "    </tr>\n",
       "    <tr>\n",
       "      <th>3</th>\n",
       "      <td>Matrix</td>\n",
       "      <td>1999-06-17</td>\n",
       "      <td>17</td>\n",
       "      <td>6</td>\n",
       "      <td>1999</td>\n",
       "      <td>3</td>\n",
       "    </tr>\n",
       "    <tr>\n",
       "      <th>4</th>\n",
       "      <td>Interstellar</td>\n",
       "      <td>2014-11-06</td>\n",
       "      <td>6</td>\n",
       "      <td>11</td>\n",
       "      <td>2014</td>\n",
       "      <td>3</td>\n",
       "    </tr>\n",
       "  </tbody>\n",
       "</table>\n",
       "</div>"
      ],
      "text/plain": [
       "             movie       date  day  month  year  weekday\n",
       "0     Pulp Fiction 1994-11-03    3     11  1994        3\n",
       "1  The Dark Knight 2008-08-21   21      8  2008        3\n",
       "2        Inception 2010-07-29   29      7  2010        3\n",
       "3           Matrix 1999-06-17   17      6  1999        3\n",
       "4     Interstellar 2014-11-06    6     11  2014        3"
      ]
     },
     "execution_count": 30,
     "metadata": {},
     "output_type": "execute_result"
    }
   ],
   "source": [
    "# Show dataset\n",
    "movie_df"
   ]
  }
 ],
 "metadata": {
  "kernelspec": {
   "display_name": "Python 3",
   "language": "python",
   "name": "python3"
  },
  "language_info": {
   "codemirror_mode": {
    "name": "ipython",
    "version": 3
   },
   "file_extension": ".py",
   "mimetype": "text/x-python",
   "name": "python",
   "nbconvert_exporter": "python",
   "pygments_lexer": "ipython3",
   "version": "3.7.8"
  }
 },
 "nbformat": 4,
 "nbformat_minor": 4
}
