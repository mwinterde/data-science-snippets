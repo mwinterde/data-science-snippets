{
 "cells": [
  {
   "cell_type": "markdown",
   "metadata": {},
   "source": [
    "# Set Routines\n",
    "\n",
    "In your daily work as a data scientist you often need to work with sets. Although it is in many cases sufficient to make use of the built-in set class of Python, there will be still situations where your workflow is based on numpy arrays and it thus becomes more convenient to use specialized numpy methods instead. In the following I will demonstrate the most central set routines in numpy, taken from the official numpy documentation page https://numpy.org/doc/stable/reference/routines.set.html."
   ]
  },
  {
   "cell_type": "code",
   "execution_count": 1,
   "metadata": {},
   "outputs": [],
   "source": [
    "# Import numpy\n",
    "import numpy as np"
   ]
  },
  {
   "cell_type": "code",
   "execution_count": 2,
   "metadata": {},
   "outputs": [],
   "source": [
    "# Create two sample arrays\n",
    "x = np.array([1, 1, 2, 3, 3, 4, 5, 5, 5, 6, 7])\n",
    "y = np.array([1, 1, 4, 4, 5, 5, 5, 8, 8, 9, 10])"
   ]
  },
  {
   "cell_type": "code",
   "execution_count": 3,
   "metadata": {},
   "outputs": [
    {
     "data": {
      "text/plain": [
       "array([1, 4, 5])"
      ]
     },
     "execution_count": 3,
     "metadata": {},
     "output_type": "execute_result"
    }
   ],
   "source": [
    "# Give intersection: All elements that are in both sets\n",
    "np.intersect1d(x, y)"
   ]
  },
  {
   "cell_type": "code",
   "execution_count": 4,
   "metadata": {},
   "outputs": [
    {
     "data": {
      "text/plain": [
       "array([ 1,  2,  3,  4,  5,  6,  7,  8,  9, 10])"
      ]
     },
     "execution_count": 4,
     "metadata": {},
     "output_type": "execute_result"
    }
   ],
   "source": [
    "# Give union: All elements that are in either of the sets\n",
    "np.union1d(x, y)"
   ]
  },
  {
   "cell_type": "code",
   "execution_count": 5,
   "metadata": {},
   "outputs": [
    {
     "data": {
      "text/plain": [
       "array([2, 3, 6, 7])"
      ]
     },
     "execution_count": 5,
     "metadata": {},
     "output_type": "execute_result"
    }
   ],
   "source": [
    "# Give difference: All elements that are in x_set but not in y_set\n",
    "np.setdiff1d(x, y)"
   ]
  },
  {
   "cell_type": "code",
   "execution_count": 6,
   "metadata": {},
   "outputs": [
    {
     "data": {
      "text/plain": [
       "array([ 2,  3,  6,  7,  8,  9, 10])"
      ]
     },
     "execution_count": 6,
     "metadata": {},
     "output_type": "execute_result"
    }
   ],
   "source": [
    "# Give symmetric difference: All elements that are in only one of the sets\n",
    "np.setxor1d(x, y)"
   ]
  },
  {
   "cell_type": "code",
   "execution_count": null,
   "metadata": {},
   "outputs": [],
   "source": [
    "# Performance comparison\n",
    "x = np.random.randint(0, 10000, 10000)\n",
    "y = np.random.randint(0, 10000, 10000)\n",
    "x_unique = np.unique(x)\n",
    "y_unique = np.unique(y)\n",
    "x_set = set(x)\n",
    "y_set = set(y)\n",
    "%timeit np.intersect1d(x, y)\n",
    "%timeit np.intersect1d(x_unique, y_unique, assume_unique=True)\n",
    "%timeit x_set.intersection(y_set)"
   ]
  }
 ],
 "metadata": {
  "kernelspec": {
   "display_name": "Python 3",
   "language": "python",
   "name": "python3"
  },
  "language_info": {
   "codemirror_mode": {
    "name": "ipython",
    "version": 3
   },
   "file_extension": ".py",
   "mimetype": "text/x-python",
   "name": "python",
   "nbconvert_exporter": "python",
   "pygments_lexer": "ipython3",
   "version": "3.7.8"
  }
 },
 "nbformat": 4,
 "nbformat_minor": 4
}
