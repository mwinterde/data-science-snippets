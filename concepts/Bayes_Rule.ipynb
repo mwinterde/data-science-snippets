{
 "cells": [
  {
   "cell_type": "markdown",
   "id": "0e68c992-b15e-4f82-afa3-84cd96fc3455",
   "metadata": {},
   "source": [
    "# Bayes Rule\n",
    "\n",
    "The bayes theorem is a rule for calculating conditional probabilities. Accordingly, we can calculate the conditional probability $P(A|B)$ given its reverse conditional probability $P(B|A)$ and its two priors $P(A)$ and $P(B)$.\n",
    "\n",
    "$$P(A|B) = {P(B|A) \\cdot P(A) \\over P(B)}$$\n",
    "\n",
    "In this notebook we will run a series of experiments to verify this equation.\n",
    "\n",
    "First, we specify the nature of the data generating process:"
   ]
  },
  {
   "cell_type": "code",
   "execution_count": 124,
   "id": "1767de1b-dc93-4315-b590-6d6f014f20f7",
   "metadata": {},
   "outputs": [],
   "source": [
    "# Specify experiments\n",
    "num_iterations = 100_000\n",
    "perc_a = 0.5\n",
    "perc_b_given_a = 0.2\n",
    "perc_b_given_not_a = 0.4"
   ]
  },
  {
   "cell_type": "markdown",
   "id": "39fe33e1-35b4-47e5-9b98-5b2b3bcc012b",
   "metadata": {},
   "source": [
    "Now we calculate the theoretical posterior probability $P(A|B)$ using the bayes rule:"
   ]
  },
  {
   "cell_type": "code",
   "execution_count": 125,
   "id": "cdec714b-97ed-44c8-8de7-747b1b1e22d8",
   "metadata": {},
   "outputs": [],
   "source": [
    "# Calculate posterior probabilities\n",
    "perc_a_given_b = perc_b_given_a * perc_a / perc_b"
   ]
  },
  {
   "cell_type": "markdown",
   "id": "130676f6-94f7-44a7-bff5-dc40be34ceaf",
   "metadata": {},
   "source": [
    "Finally we run 100.000 experiments in order to produce a sufficiently precise empirical estimate. "
   ]
  },
  {
   "cell_type": "code",
   "execution_count": 126,
   "id": "51af379e-ee4a-4d99-89f8-bd69d9018ecf",
   "metadata": {},
   "outputs": [
    {
     "name": "stdout",
     "output_type": "stream",
     "text": [
      "P(A|^B) = 0.333 (0.333)\n"
     ]
    }
   ],
   "source": [
    "# Implement a function that draws randomly from bernoulli distribution\n",
    "bernoulli = lambda p: np.random.binomial(1, p)\n",
    "\n",
    "# Initialize empty arrays for collecting the results of each experiments\n",
    "a = np.array([])\n",
    "b = np.array([])\n",
    "\n",
    "# Repeat experiment and store results in each iteration\n",
    "for _ in range(num_iterations):\n",
    "    if bernoulli(perc_a) == 1:\n",
    "        a = np.append(a, 1)\n",
    "        if bernoulli(perc_b_given_a) == 1:\n",
    "            b = np.append(b, 1)\n",
    "        else:\n",
    "            b = np.append(b, 0)\n",
    "    else:\n",
    "        a = np.append(a, 0)\n",
    "        if bernoulli(perc_b_given_not_a) == 1:\n",
    "            b = np.append(b, 1)\n",
    "        else:\n",
    "            b = np.append(b, 0)\n",
    "\n",
    "# Print result\n",
    "print(f\"P(A|^B) = {np.mean(a[b==1]):.3f} ({perc_a_given_b:.3f})\")"
   ]
  },
  {
   "cell_type": "markdown",
   "id": "f3fc6e72-e49e-4637-9d50-facdf9cfd9b3",
   "metadata": {},
   "source": [
    "As you can see the empirical estimate meets exactly the theoretical value from above."
   ]
  }
 ],
 "metadata": {
  "kernelspec": {
   "display_name": "Python 3",
   "language": "python",
   "name": "python3"
  },
  "language_info": {
   "codemirror_mode": {
    "name": "ipython",
    "version": 3
   },
   "file_extension": ".py",
   "mimetype": "text/x-python",
   "name": "python",
   "nbconvert_exporter": "python",
   "pygments_lexer": "ipython3",
   "version": "3.7.8"
  }
 },
 "nbformat": 4,
 "nbformat_minor": 5
}
