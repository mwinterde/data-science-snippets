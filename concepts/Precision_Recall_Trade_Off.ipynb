{
 "cells": [
  {
   "cell_type": "markdown",
   "metadata": {},
   "source": [
    "# Precision-Recall Trade-Off\n",
    "When dealing with classification problems there is a trade-off between two fundamental metrics: the **precision score** and the **recall score**. \n",
    "\n",
    "Before defining these metrics, we first need to think about the four potential outcomes of any binary classification:\n",
    "* **True positive (TP)**: Samples with positive class, correctly classified positive\n",
    "* **True negative (TN)**: Samples with negative class, correctly classified negative\n",
    "* **False positive (FP)**: Samples with negative class, wrongly classified positive\n",
    "* **False negative (FN)**: Samples with positive class, wrongly classified negative\n",
    "\n",
    "With this we can define the two metrics:\n",
    "\n",
    "The **precision score** gives the percentage of the correct positive classifications (`TP`) on all positive classifications (`TP + FP`):\n",
    "$$\\frac{\\sum{TP}}{\\sum{TP}+\\sum{FP}}$$\n",
    "The **recall score** gives the percentage of the correct positive classifications (`TP`) on all positive samples (`TP + FN`):\n",
    "$$\\frac{\\sum{TP}}{\\sum{TP}+\\sum{FN}}$$\n",
    "\n",
    "In the following I will create a synthetic dataset to illustrate the trade off between these two metrics."
   ]
  },
  {
   "cell_type": "code",
   "execution_count": 17,
   "metadata": {},
   "outputs": [],
   "source": [
    "import pandas as pd\n",
    "import numpy as np\n",
    "import matplotlib.pyplot as plt\n",
    "from sklearn.datasets import make_classification\n",
    "from sklearn.model_selection import train_test_split\n",
    "from sklearn.ensemble import RandomForestClassifier\n",
    "from sklearn.metrics import accuracy_score, precision_score, recall_score"
   ]
  },
  {
   "cell_type": "code",
   "execution_count": 52,
   "metadata": {},
   "outputs": [
    {
     "name": "stdout",
     "output_type": "stream",
     "text": [
      "Number of instances with negative class: 20320\n",
      "Number of instances with positive class: 79680\n"
     ]
    }
   ],
   "source": [
    "X, y = make_classification(n_samples=100_000, n_features=20, n_informative=5, weights=[0.8, 0.2], random_state=0)\n",
    "print(f\"Number of instances with negative class: {np.sum(y==1)}\")\n",
    "print(f\"Number of instances with positive class: {np.sum(y==0)}\")"
   ]
  },
  {
   "cell_type": "markdown",
   "metadata": {},
   "source": [
    "We will train a Random Forest on the training set and predict the class probabilities for the test set."
   ]
  },
  {
   "cell_type": "code",
   "execution_count": 54,
   "metadata": {},
   "outputs": [
    {
     "data": {
      "text/plain": [
       "array([0.05, 0.02, 0.55, ..., 0.  , 0.98, 0.47])"
      ]
     },
     "execution_count": 54,
     "metadata": {},
     "output_type": "execute_result"
    }
   ],
   "source": [
    "# Split into training and test set\n",
    "X_train, X_test, y_train, y_test = train_test_split(X, y, random_state=0)\n",
    "\n",
    "# Fit the model and predict class probabilities\n",
    "rf = RandomForestClassifier(random_state=0)\n",
    "rf.fit(X_train, y_train)\n",
    "preds_proba = rf.predict_proba(X_test)[:,1] # class probabilities will refer to the positive class\n",
    "preds_proba"
   ]
  },
  {
   "cell_type": "markdown",
   "metadata": {},
   "source": [
    "With that, and the true labels of the samples from the test set, we can calculate the precision and recall of the classification results for various thresholds. The threshold controls how we assign classes based on the class probabilties. Basically we say that if `p(positive) > threshold` we want to assign the positive class, else the negative class.\n",
    "\n",
    "The lower we set this threshold, the higher the recall of our model, since we are more generous in assigning the positive class. However, this also implies that the precision of the model will be low, since we receive more false positive classifications at the same time. By increasing the threshold we can improve the precision, but again only at the costs of the recall of our model."
   ]
  },
  {
   "cell_type": "code",
   "execution_count": 59,
   "metadata": {},
   "outputs": [
    {
     "data": {
      "image/png": "[encoded data removed]",
      "text/plain": [
       "<Figure size 432x288 with 1 Axes>"
      ]
     },
     "metadata": {
      "needs_background": "light"
     },
     "output_type": "display_data"
    }
   ],
   "source": [
    "# Calculate precision and recall score for various thresholds\n",
    "thresholds = np.arange(0.00, 1.05, 0.05)\n",
    "precision_scores = [precision_score(y_test, preds_proba>=t) for t in thresholds]\n",
    "recall_scores = [recall_score(y_test, preds_proba>=t) for t in thresholds]\n",
    "\n",
    "# Plot the results \n",
    "plt.title(\"The Trade-Off Between Precision and Recall\")\n",
    "plt.plot(thresholds, precision_scores, label='precision')\n",
    "plt.plot(thresholds, recall_scores, label='recall')\n",
    "plt.xlabel('threshold')\n",
    "plt.legend(loc='upper right')\n",
    "plt.show()"
   ]
  },
  {
   "cell_type": "markdown",
   "metadata": {},
   "source": [
    "It depends on our business question which threshold we should use. There can be some cases where we see higher priority in high precision scores, and other cases for which recall is more important. It is advisable to **think about this trade off even before training and tuning a model** since it can narrow the focus of the model development. For example, if the business requires a precision score of 85% (e.g. for a fraud detection system, we might want to ensure that we make only 15% wrong accusations to non fraudulent customers), we can concentrate on increasing the recall for a given 85% precision score instead of trying to reach a stronger bending of the whole curve."
   ]
  }
 ],
 "metadata": {
  "kernelspec": {
   "display_name": "Python 3",
   "language": "python",
   "name": "python3"
  },
  "language_info": {
   "codemirror_mode": {
    "name": "ipython",
    "version": 3
   },
   "file_extension": ".py",
   "mimetype": "text/x-python",
   "name": "python",
   "nbconvert_exporter": "python",
   "pygments_lexer": "ipython3",
   "version": "3.7.8"
  }
 },
 "nbformat": 4,
 "nbformat_minor": 4
}
