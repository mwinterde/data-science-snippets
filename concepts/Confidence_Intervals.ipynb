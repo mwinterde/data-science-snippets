{
 "cells": [
  {
   "cell_type": "markdown",
   "metadata": {},
   "source": [
    "# Confidence Intervals\n",
    "\n",
    "Confidence intervals are another important concept of inferential statistics. Since the interpretation of confidence intervals is straightforward, they are often useful to express the certainty that we have about some numbers. In simple words, the confidence interval refers to the probability that a population paramater will fall between two set values. In this notebook we will demonstrate the general idea behind confidence intervals using two common examples."
   ]
  },
  {
   "cell_type": "code",
   "execution_count": 2,
   "metadata": {},
   "outputs": [],
   "source": [
    "import numpy as np\n",
    "from scipy import stats\n",
    "import statsmodels.api as sm"
   ]
  },
  {
   "cell_type": "markdown",
   "metadata": {},
   "source": [
    "## Confidence Interval of a Sample Mean\n",
    "\n",
    "The first use case is to estimate the confidence interval of some sample mean. This is common in hypothesis testing where in most cases we will compare the sample means of two groups (e.g. the conversion rate when testing a new landing page). In the following we will prove that the 95% confidence interval that we calculate from some sample of size `N`, will contain the true population mean `mu` with 95% proabability. Therefore, we will repeat the experiment thousands of times and measure how often the observed confidence interval contains the true paramater."
   ]
  },
  {
   "cell_type": "code",
   "execution_count": 3,
   "metadata": {},
   "outputs": [
    {
     "name": "stdout",
     "output_type": "stream",
     "text": [
      "0.94309\n"
     ]
    }
   ],
   "source": [
    "def calculate_confidence_interval_of_sample_mean(sample, alpha):\n",
    "    \"\"\"Calculates lower and upper bound of confidence interval of the sample mean\"\"\"\n",
    "    \n",
    "    N = len(sample)\n",
    "    sample_mean = sample.mean()\n",
    "    sample_std = sample.std(ddof=1) # one degree of freedom\n",
    "    z_value = stats.norm.ppf(1-alpha/2)\n",
    "    ci_lb = sample_mean - z_value * sample_std/np.sqrt(N)\n",
    "    ci_ub = sample_mean + z_value * sample_std/np.sqrt(N)\n",
    "    \n",
    "    return ci_lb, ci_ub\n",
    "\n",
    "\n",
    "mu = 1000\n",
    "sigma = 50\n",
    "N = 50\n",
    "\n",
    "ci_contains_population_mean = []\n",
    "\n",
    "for _ in range(100_000):\n",
    "    \n",
    "    # Draw random sample from population\n",
    "    sample = np.random.normal(mu, sigma, N)\n",
    "    \n",
    "    # Calculate confidence interval\n",
    "    ci_lb, ci_ub = calculate_confidence_interval_of_sample_mean(sample, 0.05)\n",
    "    \n",
    "    # Check if confidence interval contains population mean\n",
    "    ci_contains_population_mean.append(ci_lb <= mu <= ci_ub)\n",
    "\n",
    "print(np.mean(ci_contains_population_mean))"
   ]
  },
  {
   "cell_type": "markdown",
   "metadata": {},
   "source": [
    "## Confidence Interval of a Regression Coefficient\n",
    "\n",
    "Another common use case of confidence intervals is to express certainty about the coefficients from some regression output. Again, the 95% confidence interval gives a range of values that contain the true parameter with 95% probability. So if we repeat the experiment over and over again, the observed confidence interval should contain the true parameter in 95% of the cases."
   ]
  },
  {
   "cell_type": "code",
   "execution_count": 27,
   "metadata": {},
   "outputs": [
    {
     "name": "stdout",
     "output_type": "stream",
     "text": [
      "0.95029\n",
      "0.95045\n"
     ]
    }
   ],
   "source": [
    "def calculate_confidence_interval_of_coefficients(x, y, alpha):\n",
    "    \"\"\"Calculates lower and upper bound of confidence interval of the regression coefficient\"\"\"\n",
    "    \n",
    "    exog = sm.add_constant(x)\n",
    "    mod = sm.OLS(y, exog)\n",
    "    res = mod.fit()\n",
    "    a0_lb, a0_ub = res.conf_int(alpha)[0]\n",
    "    a1_lb, a1_ub = res.conf_int(alpha)[1]\n",
    "    \n",
    "    return (a0_lb, a0_ub), (a1_lb, a1_ub)\n",
    "\n",
    "a0 = 10\n",
    "a1 = 5\n",
    "N = 50\n",
    "\n",
    "ci_contains_a0 = []\n",
    "ci_contains_a1 = []\n",
    "\n",
    "for _ in range(100_000):\n",
    "    \n",
    "    # Draw random sample from population\n",
    "    x = np.random.normal(size=N)\n",
    "    y = a0 + a1 * x + np.random.normal(size=N)\n",
    "    \n",
    "    # Calculate confidence interval\n",
    "    (a0_lb, a0_ub), (a1_lb, a1_ub) = calculate_confidence_interval_of_coefficients(x, y, 0.05)\n",
    "    \n",
    "    # Check if confidence interval contains population mean\n",
    "    ci_contains_a0.append(a0_lb <= a0 <= a0_ub)\n",
    "    ci_contains_a1.append(a1_lb <= a1 <= a1_ub)\n",
    "\n",
    "print(np.mean(ci_contains_a0))\n",
    "print(np.mean(ci_contains_a1))"
   ]
  }
 ],
 "metadata": {
  "kernelspec": {
   "display_name": "Python (py37)",
   "language": "python",
   "name": "py37"
  },
  "language_info": {
   "codemirror_mode": {
    "name": "ipython",
    "version": 3
   },
   "file_extension": ".py",
   "mimetype": "text/x-python",
   "name": "python",
   "nbconvert_exporter": "python",
   "pygments_lexer": "ipython3",
   "version": "3.7.9"
  }
 },
 "nbformat": 4,
 "nbformat_minor": 4
}
