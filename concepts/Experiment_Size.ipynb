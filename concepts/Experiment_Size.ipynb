{
 "cells": [
  {
   "cell_type": "markdown",
   "metadata": {},
   "source": [
    "# Experiment Size"
   ]
  },
  {
   "cell_type": "markdown",
   "metadata": {},
   "source": [
    "In this notebook I want to illustrate the basic idea behind determining a minimum sample size for a given test."
   ]
  },
  {
   "cell_type": "markdown",
   "metadata": {},
   "source": [
    "**Case Explanation**\n",
    "\n",
    "* You are a online retailer and want to test a new design of your landing page. \n",
    "* Your hope is that this change will increase your conversion rate from .12 to .14. \n",
    "* The probability of rejecting a true null hypothesis should be .05.\n",
    "* The statistical power of the test should be .80.\n",
    "\n",
    "What is the minimum sample size for the experiment?"
   ]
  },
  {
   "cell_type": "markdown",
   "metadata": {},
   "source": [
    "**Hypothesis**\n",
    "\n",
    "Let $p_t$ be the conversion rate in the test group and $p_c$ the conversion rate in the control group.\n",
    "\n",
    "H0: $p_c = p_t = 0.12$\n",
    "\n",
    "H1: $p_c = 0.12$ and $p_t = 0.14$"
   ]
  },
  {
   "cell_type": "markdown",
   "metadata": {},
   "source": [
    "**Sampling distribution of p**\n",
    "\n",
    "The distribution of the conversion rate is a special case of the sampling distribution of the mean. The total number of conversions in a given sample follows a binomial distribution with the parameters $p$ and $n$. The conversion rate gives the mean number of conversions in a given sample. And for large enough sample sizes, it follows a normal distribution with the parameters $\\mu = p$ and $\\sigma^2 = \\frac{p*(1-p)}{n}$."
   ]
  },
  {
   "cell_type": "markdown",
   "metadata": {},
   "source": [
    "**Test statistic**"
   ]
  },
  {
   "cell_type": "markdown",
   "metadata": {},
   "source": [
    "We want to test whether there is a significant difference between the conversion rates in both groups. Therefore, we construct the test statistic $d$, measuring the conversion rate difference between test and control group: \n",
    "\n",
    "$d = p_t - p_c$\n",
    "\n",
    "Under H0, we assume that $p_t$ = $p_c = 0.12$. The sampling distribution of $d$ is then:\n",
    "\n",
    "$d_0 \\sim N(\\mu = 0, \\sigma^2 = 2*\\frac{p_t*(1-p_t)}{n})$\n",
    "\n",
    "Under H1, we assume that $p_c = 0.12$ and $p_t = 0.14$. The sampling distribution of d is then:\n",
    "\n",
    "$d_1 \\sim N(\\mu = p_t - p_c, \\sigma^2 = \\frac{p_t*(1-p_t)+p_c*(1-p_c)}{n})$"
   ]
  },
  {
   "cell_type": "markdown",
   "metadata": {},
   "source": [
    "**Experiment size**\n",
    "\n",
    "We can calculate the minimum sample size by creating equations for $\\alpha$ (Type I error) and $\\beta$ (Type II error) of the test.\n",
    "\n",
    "**Type I Error**\n",
    "\n",
    "$P(\\text{ Reject H0 } | \\text{ H0 is true }) = \\alpha$\n",
    "\n",
    "$d_{min} = z_{1-\\alpha} * \\sqrt{\\frac{2*p_t*(1-p_t)}{n}}$\n",
    "\n",
    "**Type II Error**\n",
    "\n",
    "$P(\\text{ Accept H0 } | \\text{ H1 is true }) = \\beta$\n",
    "\n",
    "$d_{min} - (p_t - p_c) = z_{\\beta} * \\sqrt{\\frac{p_t*(1-p_t)+p_c*(1-p_c)}{n}}$\n",
    "\n",
    "\n",
    "By relating the two equations we get:\n",
    "\n",
    "$n = \\lceil \\big(\\frac{z_{\\alpha} ( 2 * p_t * (1-p_t) ) - z_{\\beta} ( p_t * (1-p_t) + p_c * (1-p_c) )}{p_t - p_c}\\big)^2 \\rceil$"
   ]
  },
  {
   "cell_type": "code",
   "execution_count": 4,
   "metadata": {},
   "outputs": [],
   "source": [
    "import scipy.stats as stats\n",
    "import numpy as np\n",
    "\n",
    "\n",
    "def determine_experiment_size(p_null, p_alt, alpha, beta):\n",
    "    \"\"\"Returns the minimal sample size necessary for a specified\n",
    "    test\n",
    "    \n",
    "    Input:\n",
    "        p_null (float): conversion rate under H0\n",
    "        p_alt (float): conversion rate under H1\n",
    "        alpha: probability of Type I error\n",
    "        beta: probability of Type II error\n",
    "    \n",
    "    Returns:\n",
    "        float: minimal sample size\n",
    "    \n",
    "    \"\"\"\n",
    "    \n",
    "    # Get necessary z-scores\n",
    "    z_null = stats.norm.ppf(1 - alpha)\n",
    "    z_alt  = stats.norm.ppf(beta)\n",
    "\n",
    "    # Get standard deviations\n",
    "    sd_null = np.sqrt(p_null * (1-p_null) + p_null * (1-p_null))\n",
    "    sd_alt  = np.sqrt(p_null * (1-p_null) + p_alt  * (1-p_alt) )\n",
    "\n",
    "    # Calculate minimum sample size\n",
    "    p_diff = p_alt - p_null\n",
    "    n = ((z_null*sd_null - z_alt*sd_alt) / p_diff) ** 2\n",
    "    \n",
    "    return np.ceil(n)"
   ]
  },
  {
   "cell_type": "code",
   "execution_count": 7,
   "metadata": {},
   "outputs": [
    {
     "data": {
      "text/plain": [
       "3341.0"
      ]
     },
     "execution_count": 7,
     "metadata": {},
     "output_type": "execute_result"
    }
   ],
   "source": [
    "determine_experiment_size(0.12, 0.14, 0.05, 0.2)"
   ]
  },
  {
   "cell_type": "markdown",
   "metadata": {},
   "source": [
    "For the specified test we would need at least 3341 observations per group."
   ]
  }
 ],
 "metadata": {
  "kernelspec": {
   "display_name": "Python 3",
   "language": "python",
   "name": "python3"
  },
  "language_info": {
   "codemirror_mode": {
    "name": "ipython",
    "version": 3
   },
   "file_extension": ".py",
   "mimetype": "text/x-python",
   "name": "python",
   "nbconvert_exporter": "python",
   "pygments_lexer": "ipython3",
   "version": "3.7.8"
  }
 },
 "nbformat": 4,
 "nbformat_minor": 4
}
